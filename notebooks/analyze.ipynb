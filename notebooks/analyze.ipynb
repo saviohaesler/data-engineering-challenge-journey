{
 "cells": [
  {
   "cell_type": "markdown",
   "id": "47143ffc-fbdd-4dab-a684-6473bd84bc0c",
   "metadata": {},
   "source": [
    "# The barometer data and location data from Kafka are read and processed in this notebook"
   ]
  },
  {
   "cell_type": "markdown",
   "id": "57379bce-eabe-4421-84c7-2ec006fda013",
   "metadata": {},
   "source": [
    "### **Subscribe to Kafka Topic and Read Barometer Data Stream**\n",
    "\n",
    "This step outlines subscribing to a Kafka topic and reading the barometer data stream for further processing."
   ]
  },
  {
   "cell_type": "code",
   "execution_count": 1,
   "id": "a8006eaa-83ca-4ae9-b4c0-113b4f3ecc86",
   "metadata": {},
   "outputs": [
    {
     "name": "stdout",
     "output_type": "stream",
     "text": [
      "root\n",
      " |-- key: binary (nullable = true)\n",
      " |-- value: binary (nullable = true)\n",
      " |-- topic: string (nullable = true)\n",
      " |-- partition: integer (nullable = true)\n",
      " |-- offset: long (nullable = true)\n",
      " |-- timestamp: timestamp (nullable = true)\n",
      " |-- timestampType: integer (nullable = true)\n",
      "\n"
     ]
    }
   ],
   "source": [
    "from pyspark.sql.types import *\n",
    "from pyspark.sql.functions import *\n",
    "\n",
    "# Topic subscriben\n",
    "df_barometer = spark\\\n",
    "    .readStream\\\n",
    "    .format('kafka')\\\n",
    "    .option('kafka.bootstrap.servers', 'localhost:9092')\\\n",
    "    .option('subscribe', 'barometer')\\\n",
    "    .option(\"startingOffsets\", \"earliest\")\\\n",
    "    .load()\n",
    "df_barometer.printSchema()"
   ]
  },
  {
   "cell_type": "markdown",
   "id": "522387ea-9592-411d-b231-e51c557500e6",
   "metadata": {},
   "source": [
    "### **Define Schema for Barometer Data**\n",
    "\n",
    "This step defines the schema for parsing the barometer data, specifying the structure and data types for fields like `time`, `relativeAltitude`, and `pressure`.\n"
   ]
  },
  {
   "cell_type": "code",
   "execution_count": 2,
   "id": "5edfb214-70dc-4b39-9834-862d04201232",
   "metadata": {},
   "outputs": [],
   "source": [
    "schema = StructType([\n",
    "    StructField(\"time\", StringType(), True),\n",
    "    StructField(\"values\", StructType([\n",
    "        StructField(\"relativeAltitude\", StringType(), True),\n",
    "        StructField(\"pressure\", StringType(), True)\n",
    "    ]))\n",
    "])"
   ]
  },
  {
   "cell_type": "markdown",
   "id": "57ee7c64-80a8-483f-a47d-7a2c6345a10f",
   "metadata": {},
   "source": [
    "### **Parse and Transform Barometer Data**\n",
    "\n",
    "This step involves parsing the raw Kafka stream data using the defined schema and transforming it into a structured format for further processing:\n",
    "- **Parsing JSON**: The raw Kafka `value` is parsed as JSON using the predefined schema.\n",
    "- **Selecting Fields**: Key fields like `time`, `pressure`, and `relativeAltitude` are extracted and appropriately cast to their desired types (e.g., `float`).\n",
    "- **Timestamp Transformation**: The `time` field is converted from nanoseconds to a proper `timestamp` format for easier time-based operations.\n"
   ]
  },
  {
   "cell_type": "code",
   "execution_count": 3,
   "id": "2b77b3e6-09a5-48c7-9de7-fe68acd95a06",
   "metadata": {},
   "outputs": [
    {
     "name": "stdout",
     "output_type": "stream",
     "text": [
      "root\n",
      " |-- timestamp: timestamp (nullable = true)\n",
      " |-- pressure_hPa: float (nullable = true)\n",
      " |-- relative_altitude: float (nullable = true)\n",
      "\n"
     ]
    }
   ],
   "source": [
    "df_barometer_parsed = df_barometer.selectExpr(\"CAST(value AS STRING) AS json_string\") \\\n",
    "    .select(from_json(col(\"json_string\"), schema).alias(\"data\"))\n",
    "\n",
    "df_barometer_parsed = df_barometer_parsed.select(\n",
    "    col(\"data.time\").alias(\"timestamp\"),\n",
    "    col(\"data.values.pressure\").cast(\"float\").alias(\"pressure_hPa\"),\n",
    "    col(\"data.values.relativeAltitude\").cast(\"float\").alias(\"relative_altitude\")\n",
    ")\n",
    "\n",
    "df_barometer_parsed = df_barometer_parsed.withColumn(\"timestamp\", (col(\"timestamp\").cast(\"long\") / 1e9).cast(\"timestamp\"))\n",
    "\n",
    "df_barometer_parsed.printSchema()"
   ]
  },
  {
   "cell_type": "markdown",
   "id": "de1a4343-4c0a-4d01-9f34-8b72db8dd10e",
   "metadata": {},
   "source": [
    "### **Aggregate Barometer Data with Sliding Windows**\n",
    "\n",
    "This step aggregates the parsed barometer data over sliding time windows to calculate meaningful metrics:\n",
    "- **Watermarking**: Sets a watermark of 1 minute to handle late-arriving data.\n",
    "- **Windowing**: Groups the data into 30-second time windows for aggregation.\n",
    "- **Aggregation**: Calculates the maximum (`max_pressure`) and minimum (`min_pressure`) pressure values for each window.\n",
    "- **Altitude Change Calculation**: Computes the altitude change."
   ]
  },
  {
   "cell_type": "code",
   "execution_count": 4,
   "id": "721a227a-374e-4d96-89ac-e4905a1b6b4f",
   "metadata": {},
   "outputs": [],
   "source": [
    "windowed_barometer = df_barometer_parsed\\\n",
    "    .withWatermark(\"timestamp\", \"1 minutes\")\\\n",
    "    .groupBy(\n",
    "        window(col(\"timestamp\"), \"30 seconds\")\n",
    "    )\\\n",
    "    .agg(\n",
    "        max(\"pressure_hPa\").alias(\"max_pressure\"),\n",
    "        min(\"pressure_hPa\").alias(\"min_pressure\")\n",
    "    )\\\n",
    "    .withColumn(\"altitude_change\", (col(\"min_pressure\") - col(\"max_pressure\")) * -8)"
   ]
  },
  {
   "cell_type": "markdown",
   "id": "1b1b5145-ec78-44f0-92bb-96284c2e2ccc",
   "metadata": {},
   "source": [
    "### **Select and Format Windowed Barometer Data**\n",
    "\n",
    "This step extracts and formats the key columns from the windowed aggregation for further use:\n",
    "- **Select Window Information**: Extracts the `start` and `end` times of each window and renames them to `start_time` and `end_time`.\n",
    "- **Select Altitude Change**: Includes the calculated `altitude_change` metric for each window.\n",
    "\n",
    "The resulting DataFrame contains:\n",
    "- `start_time`: The start time of the aggregation window.\n",
    "- `end_time`: The end time of the aggregation window.\n",
    "- `altitude_change`: The calculated change in altitude for the window."
   ]
  },
  {
   "cell_type": "code",
   "execution_count": 5,
   "id": "7efd457a-9491-44de-85cd-6ab50cac6e00",
   "metadata": {},
   "outputs": [],
   "source": [
    "windowed_barometer = windowed_barometer.select(\n",
    "    col(\"window.start\").alias(\"start_time\"),\n",
    "    col(\"window.end\").alias(\"end_time\"),\n",
    "    col(\"altitude_change\")\n",
    ")"
   ]
  },
  {
   "cell_type": "markdown",
   "id": "7b34684f-0451-4a8e-9ae0-7909b89b976b",
   "metadata": {},
   "source": [
    "### **Write Barometer Data to Memory Table**\n",
    "\n",
    "This step writes the processed barometer data into a memory table named `barometer` for further querying."
   ]
  },
  {
   "cell_type": "code",
   "execution_count": 6,
   "id": "e5a4d37e-a86f-4640-9235-f5557a99de87",
   "metadata": {},
   "outputs": [],
   "source": [
    "query = windowed_barometer.writeStream \\\n",
    "    .outputMode(\"complete\") \\\n",
    "    .format(\"memory\") \\\n",
    "    .queryName(\"barometer\") \\\n",
    "    .start()"
   ]
  },
  {
   "cell_type": "markdown",
   "id": "dc68c458-c69e-4e46-a9ba-0d8a2a3a7b8a",
   "metadata": {},
   "source": [
    "### **Query Processed Barometer Data**\n",
    "\n",
    "This step retrieves the processed barometer data from the memory table and displays it, ordered by `start_time`."
   ]
  },
  {
   "cell_type": "code",
   "execution_count": 8,
   "id": "c61406a6-5e7a-4f9e-92fb-dc02ee913f67",
   "metadata": {},
   "outputs": [
    {
     "name": "stdout",
     "output_type": "stream",
     "text": [
      "+-------------------+-------------------+---------------+\n",
      "|         start_time|           end_time|altitude_change|\n",
      "+-------------------+-------------------+---------------+\n",
      "|2025-01-22 18:43:00|2025-01-22 18:43:30|      1.7827148|\n",
      "|2025-01-22 18:43:30|2025-01-22 18:44:00|      1.9423828|\n",
      "|2025-01-22 18:44:00|2025-01-22 18:44:30|      1.5107422|\n",
      "|2025-01-22 18:44:30|2025-01-22 18:45:00|      0.7548828|\n",
      "|2025-01-22 18:45:00|2025-01-22 18:45:30|      1.9389648|\n",
      "|2025-01-22 18:45:30|2025-01-22 18:46:00|      2.1777344|\n",
      "|2025-01-22 18:46:00|2025-01-22 18:46:30|       1.543457|\n",
      "|2025-01-22 18:46:30|2025-01-22 18:47:00|      2.6298828|\n",
      "|2025-01-22 18:47:00|2025-01-22 18:47:30|      1.4018555|\n",
      "|2025-01-22 18:47:30|2025-01-22 18:48:00|      1.2158203|\n",
      "|2025-01-22 18:48:00|2025-01-22 18:48:30|      1.2021484|\n",
      "|2025-01-22 18:48:30|2025-01-22 18:49:00|      1.2373047|\n",
      "|2025-01-22 18:49:00|2025-01-22 18:49:30|      3.2792969|\n",
      "|2025-01-22 18:49:30|2025-01-22 18:50:00|      2.7719727|\n",
      "|2025-01-22 18:50:00|2025-01-22 18:50:30|           -0.0|\n",
      "+-------------------+-------------------+---------------+\n",
      "\n"
     ]
    }
   ],
   "source": [
    "result = spark.sql(\"SELECT * FROM barometer ORDER BY start_time\")\n",
    "result.show()"
   ]
  },
  {
   "cell_type": "markdown",
   "id": "abde6144-020f-4864-b7c1-8383143775b5",
   "metadata": {},
   "source": [
    "### **Visualize Altitude Changes**\n",
    "\n",
    "This step visualizes the altitude changes over time using a line plot:\n",
    "- **Data Conversion**: Converts the Spark DataFrame to a Pandas DataFrame for visualization.\n",
    "- **Plotting**:\n",
    "  - `start_time` is used as the x-axis to represent the time windows.\n",
    "  - `altitude_change` is plotted on the y-axis to show altitude variations.\n",
    "  - The plot includes markers for better visibility and a grid for readability.\n",
    "- **Title and Labels**: Clearly label the axes and provide a title for the plot."
   ]
  },
  {
   "cell_type": "code",
   "execution_count": 9,
   "id": "c8ca3e2b-13a5-4582-89ce-3c6f48a087f6",
   "metadata": {},
   "outputs": [
    {
     "data": {
      "image/png": "[encoded data removed]",
      "text/plain": [
       "<Figure size 1000x600 with 1 Axes>"
      ]
     },
     "metadata": {},
     "output_type": "display_data"
    }
   ],
   "source": [
    "import matplotlib.pyplot as plt\n",
    "import pandas as pd\n",
    "\n",
    "altitude_df = result.toPandas()\n",
    "\n",
    "# Plot\n",
    "plt.figure(figsize=(10, 6))\n",
    "plt.plot(altitude_df['start_time'], altitude_df['altitude_change'], marker='o')\n",
    "plt.xlabel('Time')\n",
    "plt.ylabel('Altitude Change (m)')\n",
    "plt.title('Real-Time Altitude Changes')\n",
    "plt.grid()\n",
    "plt.show()"
   ]
  },
  {
   "cell_type": "markdown",
   "id": "3b302f54-3bcd-47c1-a616-1b772a66ea94",
   "metadata": {},
   "source": [
    "### **Subscribe to Kafka Location Topic**\n",
    "\n",
    "This step subscribes to the `location` Kafka topic and reads the incoming data stream for further processing."
   ]
  },
  {
   "cell_type": "code",
   "execution_count": 10,
   "id": "f96d19b1-1e07-46f1-9610-39cc1453f943",
   "metadata": {},
   "outputs": [
    {
     "name": "stdout",
     "output_type": "stream",
     "text": [
      "root\n",
      " |-- key: binary (nullable = true)\n",
      " |-- value: binary (nullable = true)\n",
      " |-- topic: string (nullable = true)\n",
      " |-- partition: integer (nullable = true)\n",
      " |-- offset: long (nullable = true)\n",
      " |-- timestamp: timestamp (nullable = true)\n",
      " |-- timestampType: integer (nullable = true)\n",
      "\n"
     ]
    }
   ],
   "source": [
    "from pyspark.sql.types import *\n",
    "from pyspark.sql.functions import *\n",
    "\n",
    "# Topic subscriben\n",
    "df_location = spark.readStream \\\n",
    "    .format(\"kafka\") \\\n",
    "    .option(\"kafka.bootstrap.servers\", \"localhost:9092\") \\\n",
    "    .option(\"subscribe\", \"location\") \\\n",
    "    .option(\"startingOffsets\", \"earliest\") \\\n",
    "    .load()\n",
    "df_location.printSchema()"
   ]
  },
  {
   "cell_type": "markdown",
   "id": "41938aae-082a-4b59-a134-be032d22829a",
   "metadata": {},
   "source": [
    "### **Define Schema for Location Data**\n",
    "\n",
    "This step defines the schema for parsing the location data, including:\n",
    "- `time`: The timestamp of the data.\n",
    "- `values`: A nested structure containing `latitude` and `longitude`."
   ]
  },
  {
   "cell_type": "code",
   "execution_count": 11,
   "id": "6a13501d-067d-44a0-af03-af3a9f554c3b",
   "metadata": {},
   "outputs": [],
   "source": [
    "schema = StructType([\n",
    "    StructField(\"time\", StringType(), True),\n",
    "    StructField(\"values\", StructType([\n",
    "        StructField(\"latitude\", StringType(), True),\n",
    "        StructField(\"longitude\", StringType(), True)\n",
    "    ]))\n",
    "])"
   ]
  },
  {
   "cell_type": "markdown",
   "id": "0a19588a-38b4-4713-a442-a3720e82f90d",
   "metadata": {},
   "source": [
    "### **Parse and Transform Location Data**\n",
    "\n",
    "This step parses the JSON location data from the Kafka stream and transforms it into a structured format with `timestamp`, `latitude`, and `longitude`."
   ]
  },
  {
   "cell_type": "code",
   "execution_count": 12,
   "id": "94c0a002-ba63-42a3-8dd9-639888331300",
   "metadata": {},
   "outputs": [
    {
     "name": "stdout",
     "output_type": "stream",
     "text": [
      "root\n",
      " |-- timestamp: timestamp (nullable = true)\n",
      " |-- latitude: string (nullable = true)\n",
      " |-- longitude: string (nullable = true)\n",
      "\n"
     ]
    }
   ],
   "source": [
    "df_location_parsed = df_location.selectExpr(\"CAST(value AS STRING) AS json_string\") \\\n",
    "    .select(from_json(col(\"json_string\"), schema).alias(\"data\")).select(\"data.time\", \"data.values.latitude\", \"data.values.longitude\")\n",
    "\n",
    "df_location_parsed = df_location_parsed.select(\n",
    "    col(\"time\").alias(\"timestamp\"),\n",
    "    col(\"latitude\"),\n",
    "    col(\"longitude\")\n",
    ")\n",
    "\n",
    "df_location_parsed = df_location_parsed.withColumn(\"timestamp\", (col(\"timestamp\").cast(\"long\") / 1e9).cast(\"timestamp\"))\n",
    "\n",
    "df_location_parsed.printSchema()"
   ]
  },
  {
   "cell_type": "markdown",
   "id": "91396858-c11f-4104-80a7-edd0c93846da",
   "metadata": {},
   "source": [
    "### **Aggregate Location Data with Sliding Windows**\n",
    "\n",
    "This step aggregates the location data over 30-second sliding windows, capturing the most recent `latitude` and `longitude` for each window."
   ]
  },
  {
   "cell_type": "code",
   "execution_count": 13,
   "id": "447c739d-c780-4b07-be81-47f538641942",
   "metadata": {},
   "outputs": [],
   "source": [
    "windowed_location = df_location_parsed\\\n",
    "    .withWatermark(\"timestamp\", \"1 minutes\")\\\n",
    "    .groupBy(\n",
    "        window(col(\"timestamp\"), \"30 seconds\")\n",
    "    )\\\n",
    "    .agg(\n",
    "        last(\"latitude\").alias(\"latitude\"),\n",
    "        last(\"longitude\").alias(\"longitude\"),\n",
    "    )"
   ]
  },
  {
   "cell_type": "markdown",
   "id": "2f9fa146-4416-40ae-9588-8a6d6841fc75",
   "metadata": {},
   "source": [
    "### **Select and Format Windowed Location Data**\n",
    "\n",
    "This step extracts and formats key columns, including `start_time`, `end_time`, `latitude`, and `longitude`, from the windowed location data."
   ]
  },
  {
   "cell_type": "code",
   "execution_count": 14,
   "id": "d108a77d-d62c-4de6-a607-3f71f507d41e",
   "metadata": {},
   "outputs": [],
   "source": [
    "windowed_location = windowed_location.select(\n",
    "    col(\"window.start\").alias(\"start_time\"),\n",
    "    col(\"window.end\").alias(\"end_time\"),\n",
    "    col(\"latitude\"),\n",
    "    col(\"longitude\")\n",
    ")"
   ]
  },
  {
   "cell_type": "markdown",
   "id": "11fa11c8-52d5-4bc5-a907-173f39043df6",
   "metadata": {},
   "source": [
    "### **Write Windowed Location Data to Memory**\n",
    "\n",
    "This step writes the windowed location data into a memory table named `location` for further querying and analysis."
   ]
  },
  {
   "cell_type": "code",
   "execution_count": 15,
   "id": "e3d2af5e-cf26-48df-b477-6feef7a6ee62",
   "metadata": {},
   "outputs": [
    {
     "name": "stderr",
     "output_type": "stream",
     "text": [
      "[Stage 7:>                                                          (0 + 1) / 1]\r"
     ]
    }
   ],
   "source": [
    "query = windowed_location.writeStream \\\n",
    "    .outputMode(\"complete\") \\\n",
    "    .format(\"memory\") \\\n",
    "    .queryName(\"location\") \\\n",
    "    .start()"
   ]
  },
  {
   "cell_type": "markdown",
   "id": "804ff603-a911-4ffe-a3e4-4ca56b2e1d7f",
   "metadata": {},
   "source": [
    "### **Query and Display Windowed Location Data**\n",
    "\n",
    "This step retrieves the windowed location data from the memory table `location`, ordered by `start_time` in descending order, and displays the results."
   ]
  },
  {
   "cell_type": "code",
   "execution_count": 17,
   "id": "b42b29fd-6d3c-494b-9268-bf5e270ea390",
   "metadata": {},
   "outputs": [
    {
     "name": "stdout",
     "output_type": "stream",
     "text": [
      "+-------------------+-------------------+------------------+------------------+\n",
      "|         start_time|           end_time|          latitude|         longitude|\n",
      "+-------------------+-------------------+------------------+------------------+\n",
      "|2025-01-22 18:43:00|2025-01-22 18:43:30| 46.65400333560591|  7.87383784713366|\n",
      "|2025-01-22 18:43:30|2025-01-22 18:44:00|46.654231817388414| 7.873970706807959|\n",
      "|2025-01-22 18:44:00|2025-01-22 18:44:30| 46.65455985360713| 7.873858911973599|\n",
      "|2025-01-22 18:44:30|2025-01-22 18:45:00| 46.65492900068599|7.8736650198660145|\n",
      "|2025-01-22 18:45:00|2025-01-22 18:45:30| 46.65522736891566|  7.87354503750548|\n",
      "|2025-01-22 18:45:30|2025-01-22 18:46:00|  46.6555052650942| 7.873512642154449|\n",
      "|2025-01-22 18:46:00|2025-01-22 18:46:30| 46.65571314699889| 7.873077303453392|\n",
      "|2025-01-22 18:46:30|2025-01-22 18:47:00| 46.65562236994982|7.8725598133291275|\n",
      "|2025-01-22 18:47:00|2025-01-22 18:47:30|46.655668412519084| 7.871994705235934|\n",
      "|2025-01-22 18:47:30|2025-01-22 18:48:00| 46.65540953854446| 7.871961392418624|\n",
      "|2025-01-22 18:48:00|2025-01-22 18:48:30|  46.6551150110596|  7.87230349838986|\n",
      "|2025-01-22 18:48:30|2025-01-22 18:49:00| 46.65477481407137| 7.872708342030773|\n",
      "|2025-01-22 18:49:00|2025-01-22 18:49:30| 46.65440368776799| 7.872524854026688|\n",
      "|2025-01-22 18:49:30|2025-01-22 18:50:00| 46.65410525872771|7.8728944091394055|\n",
      "|2025-01-22 18:50:00|2025-01-22 18:50:30| 46.65408539515245|  7.87292383530871|\n",
      "+-------------------+-------------------+------------------+------------------+\n",
      "\n"
     ]
    }
   ],
   "source": [
    "result = spark.sql(\"SELECT * FROM location ORDER BY start_time\")\n",
    "result.show()"
   ]
  },
  {
   "cell_type": "markdown",
   "id": "c407d82b-a4fd-4b28-8b6a-37233e1065ff",
   "metadata": {},
   "source": [
    "### **Stream Processed Data to Redis**\n",
    "\n",
    "This step writes processed location and barometer data into Redis for storage and future access:\n",
    "- **`write_to_redis` Function**:\n",
    "  - Writes location data (`latitude` and `longitude`) to Redis under keys formatted as `location:{start_time}_{end_time}`.\n",
    "  - Writes barometer data (`altitude_change`) to Redis under keys formatted as `barometer:{start_time}_{end_time}`.\n",
    "- **Streaming Queries**:\n",
    "  - `query_location`: Streams windowed location data to Redis.\n",
    "  - `query_barometer`: Streams windowed barometer data to Redis.\n",
    "- **Termination Handling**:\n",
    "  - Both queries are set to run continuously and wait for termination."
   ]
  },
  {
   "cell_type": "code",
   "execution_count": 18,
   "id": "5d7e9928-f49d-4271-bb9a-440da8b0e4e1",
   "metadata": {},
   "outputs": [
    {
     "name": "stderr",
     "output_type": "stream",
     "text": [
      "ERROR:root:KeyboardInterrupt while sending command.                             \n",
      "Traceback (most recent call last):\n",
      "  File \"/opt/spark/python/lib/py4j-0.10.9.7-src.zip/py4j/java_gateway.py\", line 1038, in send_command\n",
      "    response = connection.send_command(command)\n",
      "  File \"/opt/spark/python/lib/py4j-0.10.9.7-src.zip/py4j/clientserver.py\", line 511, in send_command\n",
      "    answer = smart_decode(self.stream.readline()[:-1])\n",
      "  File \"/usr/lib/python3.10/socket.py\", line 705, in readinto\n",
      "    return self._sock.recv_into(b)\n",
      "KeyboardInterrupt\n"
     ]
    },
    {
     "ename": "KeyboardInterrupt",
     "evalue": "",
     "output_type": "error",
     "traceback": [
      "\u001b[0;31m---------------------------------------------------------------------------\u001b[0m",
      "\u001b[0;31mKeyboardInterrupt\u001b[0m                         Traceback (most recent call last)",
      "Cell \u001b[0;32mIn[18], line 34\u001b[0m\n\u001b[1;32m     21\u001b[0m query_location \u001b[38;5;241m=\u001b[39m (\n\u001b[1;32m     22\u001b[0m     windowed_location\u001b[38;5;241m.\u001b[39mwriteStream\n\u001b[1;32m     23\u001b[0m     \u001b[38;5;241m.\u001b[39mforeach(write_to_redis)\n\u001b[1;32m     24\u001b[0m     \u001b[38;5;241m.\u001b[39moutputMode(\u001b[38;5;124m\"\u001b[39m\u001b[38;5;124mupdate\u001b[39m\u001b[38;5;124m\"\u001b[39m)\n\u001b[1;32m     25\u001b[0m     \u001b[38;5;241m.\u001b[39mstart()\n\u001b[1;32m     26\u001b[0m )\n\u001b[1;32m     27\u001b[0m query_barometer \u001b[38;5;241m=\u001b[39m (\n\u001b[1;32m     28\u001b[0m     windowed_barometer\u001b[38;5;241m.\u001b[39mwriteStream\n\u001b[1;32m     29\u001b[0m     \u001b[38;5;241m.\u001b[39mforeach(write_to_redis)\n\u001b[1;32m     30\u001b[0m     \u001b[38;5;241m.\u001b[39moutputMode(\u001b[38;5;124m\"\u001b[39m\u001b[38;5;124mupdate\u001b[39m\u001b[38;5;124m\"\u001b[39m)\n\u001b[1;32m     31\u001b[0m     \u001b[38;5;241m.\u001b[39mstart()\n\u001b[1;32m     32\u001b[0m )\n\u001b[0;32m---> 34\u001b[0m \u001b[43mquery_location\u001b[49m\u001b[38;5;241;43m.\u001b[39;49m\u001b[43mawaitTermination\u001b[49m\u001b[43m(\u001b[49m\u001b[43m)\u001b[49m\n\u001b[1;32m     35\u001b[0m query_location\u001b[38;5;241m.\u001b[39mawaitTermination()\n",
      "File \u001b[0;32m/opt/spark/python/pyspark/sql/streaming/query.py:221\u001b[0m, in \u001b[0;36mStreamingQuery.awaitTermination\u001b[0;34m(self, timeout)\u001b[0m\n\u001b[1;32m    219\u001b[0m     \u001b[38;5;28;01mreturn\u001b[39;00m \u001b[38;5;28mself\u001b[39m\u001b[38;5;241m.\u001b[39m_jsq\u001b[38;5;241m.\u001b[39mawaitTermination(\u001b[38;5;28mint\u001b[39m(timeout \u001b[38;5;241m*\u001b[39m \u001b[38;5;241m1000\u001b[39m))\n\u001b[1;32m    220\u001b[0m \u001b[38;5;28;01melse\u001b[39;00m:\n\u001b[0;32m--> 221\u001b[0m     \u001b[38;5;28;01mreturn\u001b[39;00m \u001b[38;5;28;43mself\u001b[39;49m\u001b[38;5;241;43m.\u001b[39;49m\u001b[43m_jsq\u001b[49m\u001b[38;5;241;43m.\u001b[39;49m\u001b[43mawaitTermination\u001b[49m\u001b[43m(\u001b[49m\u001b[43m)\u001b[49m\n",
      "File \u001b[0;32m/opt/spark/python/lib/py4j-0.10.9.7-src.zip/py4j/java_gateway.py:1321\u001b[0m, in \u001b[0;36mJavaMember.__call__\u001b[0;34m(self, *args)\u001b[0m\n\u001b[1;32m   1314\u001b[0m args_command, temp_args \u001b[38;5;241m=\u001b[39m \u001b[38;5;28mself\u001b[39m\u001b[38;5;241m.\u001b[39m_build_args(\u001b[38;5;241m*\u001b[39margs)\n\u001b[1;32m   1316\u001b[0m command \u001b[38;5;241m=\u001b[39m proto\u001b[38;5;241m.\u001b[39mCALL_COMMAND_NAME \u001b[38;5;241m+\u001b[39m\\\n\u001b[1;32m   1317\u001b[0m     \u001b[38;5;28mself\u001b[39m\u001b[38;5;241m.\u001b[39mcommand_header \u001b[38;5;241m+\u001b[39m\\\n\u001b[1;32m   1318\u001b[0m     args_command \u001b[38;5;241m+\u001b[39m\\\n\u001b[1;32m   1319\u001b[0m     proto\u001b[38;5;241m.\u001b[39mEND_COMMAND_PART\n\u001b[0;32m-> 1321\u001b[0m answer \u001b[38;5;241m=\u001b[39m \u001b[38;5;28;43mself\u001b[39;49m\u001b[38;5;241;43m.\u001b[39;49m\u001b[43mgateway_client\u001b[49m\u001b[38;5;241;43m.\u001b[39;49m\u001b[43msend_command\u001b[49m\u001b[43m(\u001b[49m\u001b[43mcommand\u001b[49m\u001b[43m)\u001b[49m\n\u001b[1;32m   1322\u001b[0m return_value \u001b[38;5;241m=\u001b[39m get_return_value(\n\u001b[1;32m   1323\u001b[0m     answer, \u001b[38;5;28mself\u001b[39m\u001b[38;5;241m.\u001b[39mgateway_client, \u001b[38;5;28mself\u001b[39m\u001b[38;5;241m.\u001b[39mtarget_id, \u001b[38;5;28mself\u001b[39m\u001b[38;5;241m.\u001b[39mname)\n\u001b[1;32m   1325\u001b[0m \u001b[38;5;28;01mfor\u001b[39;00m temp_arg \u001b[38;5;129;01min\u001b[39;00m temp_args:\n",
      "File \u001b[0;32m/opt/spark/python/lib/py4j-0.10.9.7-src.zip/py4j/java_gateway.py:1038\u001b[0m, in \u001b[0;36mGatewayClient.send_command\u001b[0;34m(self, command, retry, binary)\u001b[0m\n\u001b[1;32m   1036\u001b[0m connection \u001b[38;5;241m=\u001b[39m \u001b[38;5;28mself\u001b[39m\u001b[38;5;241m.\u001b[39m_get_connection()\n\u001b[1;32m   1037\u001b[0m \u001b[38;5;28;01mtry\u001b[39;00m:\n\u001b[0;32m-> 1038\u001b[0m     response \u001b[38;5;241m=\u001b[39m \u001b[43mconnection\u001b[49m\u001b[38;5;241;43m.\u001b[39;49m\u001b[43msend_command\u001b[49m\u001b[43m(\u001b[49m\u001b[43mcommand\u001b[49m\u001b[43m)\u001b[49m\n\u001b[1;32m   1039\u001b[0m     \u001b[38;5;28;01mif\u001b[39;00m binary:\n\u001b[1;32m   1040\u001b[0m         \u001b[38;5;28;01mreturn\u001b[39;00m response, \u001b[38;5;28mself\u001b[39m\u001b[38;5;241m.\u001b[39m_create_connection_guard(connection)\n",
      "File \u001b[0;32m/opt/spark/python/lib/py4j-0.10.9.7-src.zip/py4j/clientserver.py:511\u001b[0m, in \u001b[0;36mClientServerConnection.send_command\u001b[0;34m(self, command)\u001b[0m\n\u001b[1;32m    509\u001b[0m \u001b[38;5;28;01mtry\u001b[39;00m:\n\u001b[1;32m    510\u001b[0m     \u001b[38;5;28;01mwhile\u001b[39;00m \u001b[38;5;28;01mTrue\u001b[39;00m:\n\u001b[0;32m--> 511\u001b[0m         answer \u001b[38;5;241m=\u001b[39m smart_decode(\u001b[38;5;28;43mself\u001b[39;49m\u001b[38;5;241;43m.\u001b[39;49m\u001b[43mstream\u001b[49m\u001b[38;5;241;43m.\u001b[39;49m\u001b[43mreadline\u001b[49m\u001b[43m(\u001b[49m\u001b[43m)\u001b[49m[:\u001b[38;5;241m-\u001b[39m\u001b[38;5;241m1\u001b[39m])\n\u001b[1;32m    512\u001b[0m         logger\u001b[38;5;241m.\u001b[39mdebug(\u001b[38;5;124m\"\u001b[39m\u001b[38;5;124mAnswer received: \u001b[39m\u001b[38;5;132;01m{0}\u001b[39;00m\u001b[38;5;124m\"\u001b[39m\u001b[38;5;241m.\u001b[39mformat(answer))\n\u001b[1;32m    513\u001b[0m         \u001b[38;5;66;03m# Happens when a the other end is dead. There might be an empty\u001b[39;00m\n\u001b[1;32m    514\u001b[0m         \u001b[38;5;66;03m# answer before the socket raises an error.\u001b[39;00m\n",
      "File \u001b[0;32m/usr/lib/python3.10/socket.py:705\u001b[0m, in \u001b[0;36mSocketIO.readinto\u001b[0;34m(self, b)\u001b[0m\n\u001b[1;32m    703\u001b[0m \u001b[38;5;28;01mwhile\u001b[39;00m \u001b[38;5;28;01mTrue\u001b[39;00m:\n\u001b[1;32m    704\u001b[0m     \u001b[38;5;28;01mtry\u001b[39;00m:\n\u001b[0;32m--> 705\u001b[0m         \u001b[38;5;28;01mreturn\u001b[39;00m \u001b[38;5;28;43mself\u001b[39;49m\u001b[38;5;241;43m.\u001b[39;49m\u001b[43m_sock\u001b[49m\u001b[38;5;241;43m.\u001b[39;49m\u001b[43mrecv_into\u001b[49m\u001b[43m(\u001b[49m\u001b[43mb\u001b[49m\u001b[43m)\u001b[49m\n\u001b[1;32m    706\u001b[0m     \u001b[38;5;28;01mexcept\u001b[39;00m timeout:\n\u001b[1;32m    707\u001b[0m         \u001b[38;5;28mself\u001b[39m\u001b[38;5;241m.\u001b[39m_timeout_occurred \u001b[38;5;241m=\u001b[39m \u001b[38;5;28;01mTrue\u001b[39;00m\n",
      "\u001b[0;31mKeyboardInterrupt\u001b[0m: "
     ]
    }
   ],
   "source": [
    "from redis import Redis\n",
    "\n",
    "def write_to_redis(row):\n",
    "    redis_client = Redis(host='localhost', port=6379, db=0)\n",
    "\n",
    "    data = row.asDict()\n",
    "\n",
    "    if 'latitude' in data and 'longitude' in data:\n",
    "        location_key = f\"location:{data['start_time']}_{data['end_time']}\"\n",
    "        redis_client.hset(location_key, mapping={\n",
    "            \"latitude\": data['latitude'],\n",
    "            \"longitude\": data['longitude'],\n",
    "        })\n",
    "\n",
    "    if 'altitude_change' in data:\n",
    "        barometer_key = f\"barometer:{data['start_time']}_{data['end_time']}\"\n",
    "        redis_client.hset(barometer_key, mapping={\n",
    "            \"altitude_change\": data['altitude_change'],\n",
    "        })\n",
    "\n",
    "query_location = (\n",
    "    windowed_location.writeStream\n",
    "    .foreach(write_to_redis)\n",
    "    .outputMode(\"update\")\n",
    "    .start()\n",
    ")\n",
    "query_barometer = (\n",
    "    windowed_barometer.writeStream\n",
    "    .foreach(write_to_redis)\n",
    "    .outputMode(\"update\")\n",
    "    .start()\n",
    ")\n",
    "\n",
    "query_location.awaitTermination()\n",
    "query_location.awaitTermination()"
   ]
  },
  {
   "cell_type": "markdown",
   "id": "6f1ee521-f90f-45c1-87af-914eeb0d86c5",
   "metadata": {},
   "source": [
    "### **Retrieve All Keys from Redis**\n",
    "\n",
    "This step retrieves all keys stored in the Redis database:\n",
    "- **Redis Scan**:\n",
    "  - Uses the `scan` method to iteratively retrieve keys in batches of 10 to avoid performance issues with large datasets.\n",
    "  - The cursor is used to keep track of the scanning position.\n",
    "- **Key Decoding**:\n",
    "  - Decodes the keys from bytes to strings for readability.\n",
    "- **Output**:\n",
    "  - Prints the list of all keys in Redis.\n",
    "  - Displays the total number of keys retrieved."
   ]
  },
  {
   "cell_type": "code",
   "execution_count": 19,
   "id": "ff9d8e08-5c9c-4d55-b32c-c1e1b38e29d4",
   "metadata": {},
   "outputs": [
    {
     "name": "stdout",
     "output_type": "stream",
     "text": [
      "['barometer:2025-01-22 18:45:00_2025-01-22 18:45:30', 'location:2025-01-22 18:48:30_2025-01-22 18:49:00', 'location:2025-01-22 18:45:00_2025-01-22 18:45:30', 'barometer:2025-01-22 18:44:30_2025-01-22 18:45:00', 'barometer:2025-01-22 18:46:00_2025-01-22 18:46:30', 'barometer:2025-01-22 18:49:30_2025-01-22 18:50:00', 'barometer:2025-01-22 18:43:30_2025-01-22 18:44:00', 'barometer:2025-01-22 18:47:30_2025-01-22 18:48:00', 'location:2025-01-22 18:50:00_2025-01-22 18:50:30', 'location:2025-01-22 18:43:00_2025-01-22 18:43:30', 'barometer:2025-01-22 18:45:30_2025-01-22 18:46:00', 'location:2025-01-22 18:48:00_2025-01-22 18:48:30', 'barometer:2025-01-22 18:48:30_2025-01-22 18:49:00', 'location:2025-01-22 18:44:30_2025-01-22 18:45:00', 'barometer:2025-01-22 18:43:00_2025-01-22 18:43:30', 'barometer:2025-01-22 18:48:00_2025-01-22 18:48:30', 'barometer:2025-01-22 18:50:00_2025-01-22 18:50:30', 'location:2025-01-22 18:44:00_2025-01-22 18:44:30', 'location:2025-01-22 18:49:00_2025-01-22 18:49:30', 'location:2025-01-22 18:47:00_2025-01-22 18:47:30', 'location:2025-01-22 18:45:30_2025-01-22 18:46:00', 'location:2025-01-22 18:49:30_2025-01-22 18:50:00', 'barometer:2025-01-22 18:46:30_2025-01-22 18:47:00', 'barometer:2025-01-22 18:49:00_2025-01-22 18:49:30', 'location:2025-01-22 18:43:30_2025-01-22 18:44:00', 'barometer:2025-01-22 18:47:00_2025-01-22 18:47:30', 'location:2025-01-22 18:47:30_2025-01-22 18:48:00', 'location:2025-01-22 18:46:00_2025-01-22 18:46:30', 'barometer:2025-01-22 18:44:00_2025-01-22 18:44:30', 'location:2025-01-22 18:46:30_2025-01-22 18:47:00']\n",
      "30\n"
     ]
    }
   ],
   "source": [
    "from redis import Redis\n",
    "\n",
    "redis_client = Redis(host='localhost', port=6379, db=0)\n",
    "\n",
    "cursor = 0\n",
    "all_keys = []\n",
    "\n",
    "while True:\n",
    "    cursor, keys = redis_client.scan(cursor=cursor, count=10)\n",
    "    all_keys.extend(keys)\n",
    "    if cursor == 0:\n",
    "        break\n",
    "\n",
    "print([key.decode('utf-8') for key in all_keys])\n",
    "print(len(all_keys))"
   ]
  },
  {
   "cell_type": "code",
   "execution_count": null,
   "id": "07e165b2-f421-4dff-8089-96e1b022b4bc",
   "metadata": {},
   "outputs": [],
   "source": []
  }
 ],
 "metadata": {
  "kernelspec": {
   "display_name": "Python 3 (ipykernel)",
   "language": "python",
   "name": "python3"
  },
  "language_info": {
   "codemirror_mode": {
    "name": "ipython",
    "version": 3
   },
   "file_extension": ".py",
   "mimetype": "text/x-python",
   "name": "python",
   "nbconvert_exporter": "python",
   "pygments_lexer": "ipython3",
   "version": "3.10.12"
  }
 },
 "nbformat": 4,
 "nbformat_minor": 5
}
